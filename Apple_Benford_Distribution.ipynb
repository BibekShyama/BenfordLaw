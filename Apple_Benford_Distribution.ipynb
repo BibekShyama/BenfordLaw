{
 "cells": [
  {
   "cell_type": "code",
   "execution_count": 1,
   "id": "f3280a97",
   "metadata": {},
   "outputs": [],
   "source": [
    "import pandas as pd\n",
    "import matplotlib.pyplot as plt\n",
    "import numpy as np\n",
    "from matplotlib import style"
   ]
  },
  {
   "cell_type": "code",
   "execution_count": 2,
   "id": "f08ffeb9",
   "metadata": {},
   "outputs": [],
   "source": [
    "original_data=pd.read_csv(\"dataset/AAPL.csv\")"
   ]
  },
  {
   "cell_type": "code",
   "execution_count": 3,
   "id": "5aafc5f7",
   "metadata": {},
   "outputs": [
    {
     "data": {
      "text/html": [
       "<div>\n",
       "<style scoped>\n",
       "    .dataframe tbody tr th:only-of-type {\n",
       "        vertical-align: middle;\n",
       "    }\n",
       "\n",
       "    .dataframe tbody tr th {\n",
       "        vertical-align: top;\n",
       "    }\n",
       "\n",
       "    .dataframe thead th {\n",
       "        text-align: right;\n",
       "    }\n",
       "</style>\n",
       "<table border=\"1\" class=\"dataframe\">\n",
       "  <thead>\n",
       "    <tr style=\"text-align: right;\">\n",
       "      <th></th>\n",
       "      <th>Date</th>\n",
       "      <th>Open</th>\n",
       "      <th>High</th>\n",
       "      <th>Low</th>\n",
       "      <th>Close</th>\n",
       "      <th>Adj Close</th>\n",
       "      <th>Volume</th>\n",
       "    </tr>\n",
       "  </thead>\n",
       "  <tbody>\n",
       "    <tr>\n",
       "      <th>0</th>\n",
       "      <td>12/12/1980</td>\n",
       "      <td>0.128348</td>\n",
       "      <td>0.128906</td>\n",
       "      <td>0.128348</td>\n",
       "      <td>0.128348</td>\n",
       "      <td>0.099874</td>\n",
       "      <td>469033600</td>\n",
       "    </tr>\n",
       "    <tr>\n",
       "      <th>1</th>\n",
       "      <td>12/15/1980</td>\n",
       "      <td>0.122210</td>\n",
       "      <td>0.122210</td>\n",
       "      <td>0.121652</td>\n",
       "      <td>0.121652</td>\n",
       "      <td>0.094663</td>\n",
       "      <td>175884800</td>\n",
       "    </tr>\n",
       "  </tbody>\n",
       "</table>\n",
       "</div>"
      ],
      "text/plain": [
       "         Date      Open      High       Low     Close  Adj Close     Volume\n",
       "0  12/12/1980  0.128348  0.128906  0.128348  0.128348   0.099874  469033600\n",
       "1  12/15/1980  0.122210  0.122210  0.121652  0.121652   0.094663  175884800"
      ]
     },
     "execution_count": 3,
     "metadata": {},
     "output_type": "execute_result"
    }
   ],
   "source": [
    "original_data.head(2)"
   ]
  },
  {
   "cell_type": "code",
   "execution_count": 4,
   "id": "08c3f253",
   "metadata": {},
   "outputs": [
    {
     "data": {
      "text/plain": [
       "0    469033600\n",
       "1    175884800\n",
       "2    105728000\n",
       "3     86441600\n",
       "4     73449600\n",
       "Name: Volume, dtype: int64"
      ]
     },
     "execution_count": 4,
     "metadata": {},
     "output_type": "execute_result"
    }
   ],
   "source": [
    "#Taking 'Volume' column for testing benford law\n",
    "data=original_data['Volume']\n",
    "data.head()"
   ]
  },
  {
   "cell_type": "code",
   "execution_count": 5,
   "id": "7ba5d162",
   "metadata": {},
   "outputs": [
    {
     "name": "stdout",
     "output_type": "stream",
     "text": [
      "<class 'pandas.core.series.Series'>\n",
      "RangeIndex: 10579 entries, 0 to 10578\n",
      "Series name: Volume\n",
      "Non-Null Count  Dtype\n",
      "--------------  -----\n",
      "10579 non-null  int64\n",
      "dtypes: int64(1)\n",
      "memory usage: 82.8 KB\n"
     ]
    }
   ],
   "source": [
    "data.info()"
   ]
  },
  {
   "cell_type": "markdown",
   "id": "e5f5ea7c",
   "metadata": {},
   "source": [
    "There are 10579 instances"
   ]
  },
  {
   "cell_type": "code",
   "execution_count": 6,
   "id": "edb7c881",
   "metadata": {},
   "outputs": [],
   "source": [
    "#Storing 1st digits of all volume value\n",
    "leading_digit_list=[]\n",
    "for i in list(data):\n",
    "    leading_digit_list.append(str(i)[0])\n"
   ]
  },
  {
   "cell_type": "code",
   "execution_count": 7,
   "id": "07d08b0e",
   "metadata": {},
   "outputs": [
    {
     "data": {
      "text/plain": [
       "['4', '1', '1', '8', '7']"
      ]
     },
     "execution_count": 7,
     "metadata": {},
     "output_type": "execute_result"
    }
   ],
   "source": [
    "leading_digit_list[0:5]"
   ]
  },
  {
   "cell_type": "code",
   "execution_count": 8,
   "id": "6f3db187",
   "metadata": {},
   "outputs": [
    {
     "data": {
      "text/plain": [
       "{'0', '1', '2', '3', '4', '5', '6', '7', '8', '9'}"
      ]
     },
     "execution_count": 8,
     "metadata": {},
     "output_type": "execute_result"
    }
   ],
   "source": [
    "set(leading_digit_list)"
   ]
  },
  {
   "cell_type": "markdown",
   "id": "5d992606",
   "metadata": {},
   "source": [
    "Since the first digit cannot be zero, so removing it."
   ]
  },
  {
   "cell_type": "code",
   "execution_count": 9,
   "id": "2fa5562c",
   "metadata": {},
   "outputs": [],
   "source": [
    "while '0' in leading_digit_list:\n",
    "    leading_digit_list.remove('0')"
   ]
  },
  {
   "cell_type": "code",
   "execution_count": 10,
   "id": "b8a83503",
   "metadata": {},
   "outputs": [
    {
     "data": {
      "text/plain": [
       "10578"
      ]
     },
     "execution_count": 10,
     "metadata": {},
     "output_type": "execute_result"
    }
   ],
   "source": [
    "len(leading_digit_list)"
   ]
  },
  {
   "cell_type": "code",
   "execution_count": 11,
   "id": "2ca4181f",
   "metadata": {},
   "outputs": [],
   "source": [
    "leading_digit_list.sort()"
   ]
  },
  {
   "cell_type": "code",
   "execution_count": 12,
   "id": "f1ba04c8",
   "metadata": {},
   "outputs": [
    {
     "data": {
      "text/plain": [
       "{'1', '2', '3', '4', '5', '6', '7', '8', '9'}"
      ]
     },
     "execution_count": 12,
     "metadata": {},
     "output_type": "execute_result"
    }
   ],
   "source": [
    "set(leading_digit_list)"
   ]
  },
  {
   "cell_type": "code",
   "execution_count": 13,
   "id": "96741192",
   "metadata": {},
   "outputs": [],
   "source": [
    "frequency={}\n",
    "for i in leading_digit_list:\n",
    "    if i in frequency.keys():\n",
    "        frequency[i]+=1\n",
    "    else:\n",
    "        frequency[i]=1"
   ]
  },
  {
   "cell_type": "code",
   "execution_count": 14,
   "id": "77ace4bb",
   "metadata": {},
   "outputs": [
    {
     "data": {
      "text/plain": [
       "<function dict.values>"
      ]
     },
     "execution_count": 14,
     "metadata": {},
     "output_type": "execute_result"
    }
   ],
   "source": [
    "frequency.values"
   ]
  },
  {
   "cell_type": "code",
   "execution_count": 15,
   "id": "877588cc",
   "metadata": {},
   "outputs": [
    {
     "data": {
      "text/plain": [
       "{'1': 3639,\n",
       " '2': 1929,\n",
       " '3': 1227,\n",
       " '4': 858,\n",
       " '5': 615,\n",
       " '6': 570,\n",
       " '7': 603,\n",
       " '8': 603,\n",
       " '9': 534}"
      ]
     },
     "execution_count": 15,
     "metadata": {},
     "output_type": "execute_result"
    }
   ],
   "source": [
    "frequency"
   ]
  },
  {
   "cell_type": "code",
   "execution_count": 16,
   "id": "8d669e02",
   "metadata": {},
   "outputs": [],
   "source": [
    "for i in frequency:\n",
    "    frequency[i]=frequency[i]/len(leading_digit_list)*100"
   ]
  },
  {
   "cell_type": "code",
   "execution_count": 17,
   "id": "db83ea37",
   "metadata": {},
   "outputs": [
    {
     "data": {
      "text/plain": [
       "{'1': 34.401588201928526,\n",
       " '2': 18.235961429381735,\n",
       " '3': 11.59954622802042,\n",
       " '4': 8.111174134997164,\n",
       " '5': 5.813953488372093,\n",
       " '6': 5.388542257515598,\n",
       " '7': 5.700510493477028,\n",
       " '8': 5.700510493477028,\n",
       " '9': 5.048213272830402}"
      ]
     },
     "execution_count": 17,
     "metadata": {},
     "output_type": "execute_result"
    }
   ],
   "source": [
    "frequency"
   ]
  },
  {
   "cell_type": "markdown",
   "id": "4b1905bf",
   "metadata": {},
   "source": [
    "# Visualization"
   ]
  },
  {
   "cell_type": "code",
   "execution_count": 18,
   "id": "fa9595b4",
   "metadata": {},
   "outputs": [
    {
     "data": {
      "text/html": [
       "<div>\n",
       "<style scoped>\n",
       "    .dataframe tbody tr th:only-of-type {\n",
       "        vertical-align: middle;\n",
       "    }\n",
       "\n",
       "    .dataframe tbody tr th {\n",
       "        vertical-align: top;\n",
       "    }\n",
       "\n",
       "    .dataframe thead th {\n",
       "        text-align: right;\n",
       "    }\n",
       "</style>\n",
       "<table border=\"1\" class=\"dataframe\">\n",
       "  <thead>\n",
       "    <tr style=\"text-align: right;\">\n",
       "      <th></th>\n",
       "      <th>Leading Digit</th>\n",
       "      <th>Proportion</th>\n",
       "    </tr>\n",
       "  </thead>\n",
       "  <tbody>\n",
       "    <tr>\n",
       "      <th>0</th>\n",
       "      <td>1</td>\n",
       "      <td>30.1</td>\n",
       "    </tr>\n",
       "    <tr>\n",
       "      <th>1</th>\n",
       "      <td>2</td>\n",
       "      <td>17.6</td>\n",
       "    </tr>\n",
       "    <tr>\n",
       "      <th>2</th>\n",
       "      <td>3</td>\n",
       "      <td>12.5</td>\n",
       "    </tr>\n",
       "    <tr>\n",
       "      <th>3</th>\n",
       "      <td>4</td>\n",
       "      <td>9.7</td>\n",
       "    </tr>\n",
       "    <tr>\n",
       "      <th>4</th>\n",
       "      <td>5</td>\n",
       "      <td>7.9</td>\n",
       "    </tr>\n",
       "    <tr>\n",
       "      <th>5</th>\n",
       "      <td>6</td>\n",
       "      <td>6.7</td>\n",
       "    </tr>\n",
       "    <tr>\n",
       "      <th>6</th>\n",
       "      <td>7</td>\n",
       "      <td>5.8</td>\n",
       "    </tr>\n",
       "    <tr>\n",
       "      <th>7</th>\n",
       "      <td>8</td>\n",
       "      <td>5.1</td>\n",
       "    </tr>\n",
       "    <tr>\n",
       "      <th>8</th>\n",
       "      <td>9</td>\n",
       "      <td>4.6</td>\n",
       "    </tr>\n",
       "  </tbody>\n",
       "</table>\n",
       "</div>"
      ],
      "text/plain": [
       "  Leading Digit  Proportion\n",
       "0             1        30.1\n",
       "1             2        17.6\n",
       "2             3        12.5\n",
       "3             4         9.7\n",
       "4             5         7.9\n",
       "5             6         6.7\n",
       "6             7         5.8\n",
       "7             8         5.1\n",
       "8             9         4.6"
      ]
     },
     "execution_count": 18,
     "metadata": {},
     "output_type": "execute_result"
    }
   ],
   "source": [
    "benford_data = pd.DataFrame({\"Leading Digit\": ['1', '2', '3', '4', '5', '6', '7', '8', '9'], \"Proportion\": [30.1, 17.6, 12.5, 09.7, 07.9, 06.7, 05.8, 05.1, 04.6]})\n",
    "benford_data\n"
   ]
  },
  {
   "cell_type": "code",
   "execution_count": 21,
   "id": "9e168ccb",
   "metadata": {},
   "outputs": [],
   "source": [
    "new_df=pd.DataFrame({\"Leading Digit\": ['1', '2', '3', '4', '5', '6', '7', '8', '9'],\"Proportion\":[0.301, 0.176,  0.125, 0.097, 0.079, 0.067, 0.058, 0.051, 0.046]})"
   ]
  },
  {
   "cell_type": "code",
   "execution_count": 22,
   "id": "a3b9119d",
   "metadata": {},
   "outputs": [
    {
     "data": {
      "text/plain": [
       "<BarContainer object of 9 artists>"
      ]
     },
     "execution_count": 22,
     "metadata": {},
     "output_type": "execute_result"
    },
    {
     "data": {
      "image/png": "[encoded data removed]",
      "text/plain": [
       "<Figure size 432x288 with 1 Axes>"
      ]
     },
     "metadata": {
      "needs_background": "light"
     },
     "output_type": "display_data"
    }
   ],
   "source": [
    "plt.bar(benford_data['Leading Digit'],benford_data['Proportion'])"
   ]
  },
  {
   "cell_type": "code",
   "execution_count": 23,
   "id": "226f54cc",
   "metadata": {},
   "outputs": [
    {
     "data": {
      "text/html": [
       "<div>\n",
       "<style scoped>\n",
       "    .dataframe tbody tr th:only-of-type {\n",
       "        vertical-align: middle;\n",
       "    }\n",
       "\n",
       "    .dataframe tbody tr th {\n",
       "        vertical-align: top;\n",
       "    }\n",
       "\n",
       "    .dataframe thead th {\n",
       "        text-align: right;\n",
       "    }\n",
       "</style>\n",
       "<table border=\"1\" class=\"dataframe\">\n",
       "  <thead>\n",
       "    <tr style=\"text-align: right;\">\n",
       "      <th></th>\n",
       "      <th>Leading Digit</th>\n",
       "      <th>Proportion</th>\n",
       "    </tr>\n",
       "  </thead>\n",
       "  <tbody>\n",
       "    <tr>\n",
       "      <th>0</th>\n",
       "      <td>1</td>\n",
       "      <td>34.401588</td>\n",
       "    </tr>\n",
       "    <tr>\n",
       "      <th>1</th>\n",
       "      <td>2</td>\n",
       "      <td>18.235961</td>\n",
       "    </tr>\n",
       "    <tr>\n",
       "      <th>2</th>\n",
       "      <td>3</td>\n",
       "      <td>11.599546</td>\n",
       "    </tr>\n",
       "    <tr>\n",
       "      <th>3</th>\n",
       "      <td>4</td>\n",
       "      <td>8.111174</td>\n",
       "    </tr>\n",
       "    <tr>\n",
       "      <th>4</th>\n",
       "      <td>5</td>\n",
       "      <td>5.813953</td>\n",
       "    </tr>\n",
       "    <tr>\n",
       "      <th>5</th>\n",
       "      <td>6</td>\n",
       "      <td>5.388542</td>\n",
       "    </tr>\n",
       "    <tr>\n",
       "      <th>6</th>\n",
       "      <td>7</td>\n",
       "      <td>5.700510</td>\n",
       "    </tr>\n",
       "    <tr>\n",
       "      <th>7</th>\n",
       "      <td>8</td>\n",
       "      <td>5.700510</td>\n",
       "    </tr>\n",
       "    <tr>\n",
       "      <th>8</th>\n",
       "      <td>9</td>\n",
       "      <td>5.048213</td>\n",
       "    </tr>\n",
       "  </tbody>\n",
       "</table>\n",
       "</div>"
      ],
      "text/plain": [
       "  Leading Digit  Proportion\n",
       "0             1   34.401588\n",
       "1             2   18.235961\n",
       "2             3   11.599546\n",
       "3             4    8.111174\n",
       "4             5    5.813953\n",
       "5             6    5.388542\n",
       "6             7    5.700510\n",
       "7             8    5.700510\n",
       "8             9    5.048213"
      ]
     },
     "execution_count": 23,
     "metadata": {},
     "output_type": "execute_result"
    }
   ],
   "source": [
    "mydata=pd.DataFrame(frequency.items(),columns=['Leading Digit','Proportion'])\n",
    "mydata"
   ]
  },
  {
   "cell_type": "code",
   "execution_count": 24,
   "id": "423597ab",
   "metadata": {},
   "outputs": [
    {
     "data": {
      "text/plain": [
       "<BarContainer object of 9 artists>"
      ]
     },
     "execution_count": 24,
     "metadata": {},
     "output_type": "execute_result"
    },
    {
     "data": {
      "image/png": "[encoded data removed]",
      "text/plain": [
       "<Figure size 432x288 with 1 Axes>"
      ]
     },
     "metadata": {
      "needs_background": "light"
     },
     "output_type": "display_data"
    }
   ],
   "source": [
    "plt.bar(mydata['Leading Digit'],mydata['Proportion'])"
   ]
  },
  {
   "cell_type": "code",
   "execution_count": 25,
   "id": "b3ce228b",
   "metadata": {},
   "outputs": [
    {
     "data": {
      "text/plain": [
       "array([1, 2, 3, 4, 5, 6, 7, 8, 9])"
      ]
     },
     "execution_count": 25,
     "metadata": {},
     "output_type": "execute_result"
    }
   ],
   "source": [
    "xpos=np.arange(1,len(mydata['Leading Digit'])+1)\n",
    "xpos"
   ]
  },
  {
   "cell_type": "code",
   "execution_count": 26,
   "id": "f8533657",
   "metadata": {},
   "outputs": [
    {
     "data": {
      "text/plain": [
       "<matplotlib.legend.Legend at 0x1e047dc3490>"
      ]
     },
     "execution_count": 26,
     "metadata": {},
     "output_type": "execute_result"
    },
    {
     "data": {
      "image/png": "[encoded data removed]",
      "text/plain": [
       "<Figure size 720x504 with 1 Axes>"
      ]
     },
     "metadata": {},
     "output_type": "display_data"
    }
   ],
   "source": [
    "style.use('ggplot')\n",
    "plt.figure(figsize=(10,7))\n",
    "barwidth=0.3\n",
    "plt.bar(xpos,benford_data['Proportion'],width=barwidth,label='Benford Distribution')\n",
    "plt.bar(xpos+0.3,mydata['Proportion'],width=barwidth,label='Volume Distribution')\n",
    "plt.xlabel('Leading Digit')\n",
    "plt.ylabel('Frequency')\n",
    "plt.legend()"
   ]
  },
  {
   "cell_type": "markdown",
   "id": "7890e0ff",
   "metadata": {},
   "source": [
    "Here we can see that 'Volumme' of Apple does somewhat follows Benford's law from the above graph "
   ]
  },
  {
   "cell_type": "code",
   "execution_count": null,
   "id": "15c0dd4a",
   "metadata": {},
   "outputs": [],
   "source": []
  }
 ],
 "metadata": {
  "kernelspec": {
   "display_name": "Python 3 (ipykernel)",
   "language": "python",
   "name": "python3"
  },
  "language_info": {
   "codemirror_mode": {
    "name": "ipython",
    "version": 3
   },
   "file_extension": ".py",
   "mimetype": "text/x-python",
   "name": "python",
   "nbconvert_exporter": "python",
   "pygments_lexer": "ipython3",
   "version": "3.9.13"
  }
 },
 "nbformat": 4,
 "nbformat_minor": 5
}
